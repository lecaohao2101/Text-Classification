{
 "cells": [
  {
   "cell_type": "code",
   "execution_count": 1,
   "id": "e04374d3",
   "metadata": {
    "_cell_guid": "b1076dfc-b9ad-4769-8c92-a6c4dae69d19",
    "_uuid": "8f2839f25d086af736a60e9eeb907d3b93b6e0e5",
    "execution": {
     "iopub.execute_input": "2024-05-23T04:09:09.749273Z",
     "iopub.status.busy": "2024-05-23T04:09:09.748852Z",
     "iopub.status.idle": "2024-05-23T04:09:10.752950Z",
     "shell.execute_reply": "2024-05-23T04:09:10.751487Z"
    },
    "papermill": {
     "duration": 1.014548,
     "end_time": "2024-05-23T04:09:10.756409",
     "exception": false,
     "start_time": "2024-05-23T04:09:09.741861",
     "status": "completed"
    },
    "tags": []
   },
   "outputs": [
    {
     "name": "stdout",
     "output_type": "stream",
     "text": [
      "/kaggle/input/spam-text-message-classification/SPAM text message 20170820 - Data.csv\n"
     ]
    }
   ],
   "source": [
    "# This Python 3 environment comes with many helpful analytics libraries installed\n",
    "# It is defined by the kaggle/python Docker image: https://github.com/kaggle/docker-python\n",
    "# For example, here's several helpful packages to load\n",
    "\n",
    "import numpy as np # linear algebra\n",
    "import pandas as pd # data processing, CSV file I/O (e.g. pd.read_csv)\n",
    "\n",
    "# Input data files are available in the read-only \"../input/\" directory\n",
    "# For example, running this (by clicking run or pressing Shift+Enter) will list all files under the input directory\n",
    "\n",
    "import os\n",
    "for dirname, _, filenames in os.walk('/kaggle/input'):\n",
    "    for filename in filenames:\n",
    "        print(os.path.join(dirname, filename))\n",
    "\n",
    "# You can write up to 20GB to the current directory (/kaggle/working/) that gets preserved as output when you create a version using \"Save & Run All\" \n",
    "# You can also write temporary files to /kaggle/temp/, but they won't be saved outside of the current session"
   ]
  },
  {
   "cell_type": "code",
   "execution_count": 2,
   "id": "6a248ded",
   "metadata": {
    "execution": {
     "iopub.execute_input": "2024-05-23T04:09:10.769012Z",
     "iopub.status.busy": "2024-05-23T04:09:10.768448Z",
     "iopub.status.idle": "2024-05-23T04:09:10.819931Z",
     "shell.execute_reply": "2024-05-23T04:09:10.818802Z"
    },
    "papermill": {
     "duration": 0.060895,
     "end_time": "2024-05-23T04:09:10.822688",
     "exception": false,
     "start_time": "2024-05-23T04:09:10.761793",
     "status": "completed"
    },
    "tags": []
   },
   "outputs": [
    {
     "data": {
      "text/html": [
       "<div>\n",
       "<style scoped>\n",
       "    .dataframe tbody tr th:only-of-type {\n",
       "        vertical-align: middle;\n",
       "    }\n",
       "\n",
       "    .dataframe tbody tr th {\n",
       "        vertical-align: top;\n",
       "    }\n",
       "\n",
       "    .dataframe thead th {\n",
       "        text-align: right;\n",
       "    }\n",
       "</style>\n",
       "<table border=\"1\" class=\"dataframe\">\n",
       "  <thead>\n",
       "    <tr style=\"text-align: right;\">\n",
       "      <th></th>\n",
       "      <th>Category</th>\n",
       "      <th>Message</th>\n",
       "    </tr>\n",
       "  </thead>\n",
       "  <tbody>\n",
       "    <tr>\n",
       "      <th>0</th>\n",
       "      <td>ham</td>\n",
       "      <td>Go until jurong point, crazy.. Available only ...</td>\n",
       "    </tr>\n",
       "    <tr>\n",
       "      <th>1</th>\n",
       "      <td>ham</td>\n",
       "      <td>Ok lar... Joking wif u oni...</td>\n",
       "    </tr>\n",
       "    <tr>\n",
       "      <th>2</th>\n",
       "      <td>spam</td>\n",
       "      <td>Free entry in 2 a wkly comp to win FA Cup fina...</td>\n",
       "    </tr>\n",
       "    <tr>\n",
       "      <th>3</th>\n",
       "      <td>ham</td>\n",
       "      <td>U dun say so early hor... U c already then say...</td>\n",
       "    </tr>\n",
       "    <tr>\n",
       "      <th>4</th>\n",
       "      <td>ham</td>\n",
       "      <td>Nah I don't think he goes to usf, he lives aro...</td>\n",
       "    </tr>\n",
       "  </tbody>\n",
       "</table>\n",
       "</div>"
      ],
      "text/plain": [
       "  Category                                            Message\n",
       "0      ham  Go until jurong point, crazy.. Available only ...\n",
       "1      ham                      Ok lar... Joking wif u oni...\n",
       "2     spam  Free entry in 2 a wkly comp to win FA Cup fina...\n",
       "3      ham  U dun say so early hor... U c already then say...\n",
       "4      ham  Nah I don't think he goes to usf, he lives aro..."
      ]
     },
     "execution_count": 2,
     "metadata": {},
     "output_type": "execute_result"
    }
   ],
   "source": [
    "df = pd .read_csv('/kaggle/input/spam-text-message-classification/SPAM text message 20170820 - Data.csv')\n",
    "df.head()"
   ]
  },
  {
   "cell_type": "code",
   "execution_count": 3,
   "id": "52a34c0a",
   "metadata": {
    "execution": {
     "iopub.execute_input": "2024-05-23T04:09:10.835120Z",
     "iopub.status.busy": "2024-05-23T04:09:10.834699Z",
     "iopub.status.idle": "2024-05-23T04:09:10.850247Z",
     "shell.execute_reply": "2024-05-23T04:09:10.849098Z"
    },
    "papermill": {
     "duration": 0.024905,
     "end_time": "2024-05-23T04:09:10.853103",
     "exception": false,
     "start_time": "2024-05-23T04:09:10.828198",
     "status": "completed"
    },
    "tags": []
   },
   "outputs": [
    {
     "data": {
      "text/plain": [
       "Category\n",
       "ham     4825\n",
       "spam     747\n",
       "Name: count, dtype: int64"
      ]
     },
     "execution_count": 3,
     "metadata": {},
     "output_type": "execute_result"
    }
   ],
   "source": [
    "df['Category'].value_counts()"
   ]
  },
  {
   "cell_type": "code",
   "execution_count": 4,
   "id": "2fcdd535",
   "metadata": {
    "execution": {
     "iopub.execute_input": "2024-05-23T04:09:10.865139Z",
     "iopub.status.busy": "2024-05-23T04:09:10.864765Z",
     "iopub.status.idle": "2024-05-23T04:09:10.872174Z",
     "shell.execute_reply": "2024-05-23T04:09:10.871087Z"
    },
    "papermill": {
     "duration": 0.01653,
     "end_time": "2024-05-23T04:09:10.874902",
     "exception": false,
     "start_time": "2024-05-23T04:09:10.858372",
     "status": "completed"
    },
    "tags": []
   },
   "outputs": [
    {
     "data": {
      "text/plain": [
       "5572"
      ]
     },
     "execution_count": 4,
     "metadata": {},
     "output_type": "execute_result"
    }
   ],
   "source": [
    "X = df['Message']\n",
    "y = df['Category']\n",
    "len(X)"
   ]
  },
  {
   "cell_type": "code",
   "execution_count": 5,
   "id": "d377e3a3",
   "metadata": {
    "execution": {
     "iopub.execute_input": "2024-05-23T04:09:10.888048Z",
     "iopub.status.busy": "2024-05-23T04:09:10.887030Z",
     "iopub.status.idle": "2024-05-23T04:09:12.264179Z",
     "shell.execute_reply": "2024-05-23T04:09:12.262817Z"
    },
    "papermill": {
     "duration": 1.386697,
     "end_time": "2024-05-23T04:09:12.267194",
     "exception": false,
     "start_time": "2024-05-23T04:09:10.880497",
     "status": "completed"
    },
    "tags": []
   },
   "outputs": [],
   "source": [
    "from sklearn.model_selection import train_test_split\n",
    "X_train, X_test, y_train, y_test = train_test_split(X, y, test_size = 0.2, random_state = 22)"
   ]
  },
  {
   "cell_type": "code",
   "execution_count": 6,
   "id": "30b7051a",
   "metadata": {
    "execution": {
     "iopub.execute_input": "2024-05-23T04:09:12.280242Z",
     "iopub.status.busy": "2024-05-23T04:09:12.279828Z",
     "iopub.status.idle": "2024-05-23T04:09:12.286836Z",
     "shell.execute_reply": "2024-05-23T04:09:12.285779Z"
    },
    "papermill": {
     "duration": 0.016873,
     "end_time": "2024-05-23T04:09:12.289391",
     "exception": false,
     "start_time": "2024-05-23T04:09:12.272518",
     "status": "completed"
    },
    "tags": []
   },
   "outputs": [
    {
     "data": {
      "text/plain": [
       "4457"
      ]
     },
     "execution_count": 6,
     "metadata": {},
     "output_type": "execute_result"
    }
   ],
   "source": [
    "len(X_train)"
   ]
  },
  {
   "cell_type": "code",
   "execution_count": 7,
   "id": "49734de9",
   "metadata": {
    "execution": {
     "iopub.execute_input": "2024-05-23T04:09:12.303059Z",
     "iopub.status.busy": "2024-05-23T04:09:12.301809Z",
     "iopub.status.idle": "2024-05-23T04:09:12.427010Z",
     "shell.execute_reply": "2024-05-23T04:09:12.425689Z"
    },
    "papermill": {
     "duration": 0.135152,
     "end_time": "2024-05-23T04:09:12.430089",
     "exception": false,
     "start_time": "2024-05-23T04:09:12.294937",
     "status": "completed"
    },
    "tags": []
   },
   "outputs": [],
   "source": [
    "from sklearn.pipeline import Pipeline\n",
    "from sklearn.feature_extraction.text import TfidfVectorizer\n",
    "from sklearn.naive_bayes import MultinomialNB, ComplementNB\n",
    "from sklearn.svm import LinearSVC\n",
    "from sklearn.metrics import accuracy_score, classification_report\n",
    "\n",
    "pipeMNB = Pipeline([\n",
    "    ('tfidf', TfidfVectorizer(stop_words='english', ngram_range=(1,3))),\n",
    "    ('clf', MultinomialNB())\n",
    "])\n",
    "\n",
    "pipeCNB = Pipeline([\n",
    "    ('tfidf', TfidfVectorizer(stop_words='english', ngram_range=(1,3))),\n",
    "    ('clf', ComplementNB())\n",
    "])\n",
    "\n",
    "pipeSVC = Pipeline([\n",
    "    ('tfidf', TfidfVectorizer(stop_words='english', ngram_range=(1,3))),\n",
    "    ('clf', LinearSVC())\n",
    "])\n"
   ]
  },
  {
   "cell_type": "code",
   "execution_count": 8,
   "id": "bfed3695",
   "metadata": {
    "execution": {
     "iopub.execute_input": "2024-05-23T04:09:12.443046Z",
     "iopub.status.busy": "2024-05-23T04:09:12.442548Z",
     "iopub.status.idle": "2024-05-23T04:09:13.950388Z",
     "shell.execute_reply": "2024-05-23T04:09:13.949085Z"
    },
    "papermill": {
     "duration": 1.517503,
     "end_time": "2024-05-23T04:09:13.953105",
     "exception": false,
     "start_time": "2024-05-23T04:09:12.435602",
     "status": "completed"
    },
    "tags": []
   },
   "outputs": [
    {
     "name": "stdout",
     "output_type": "stream",
     "text": [
      "MNB: 0.95\n",
      "CNB: 0.98\n",
      "SVC: 0.98\n"
     ]
    }
   ],
   "source": [
    "pipeMNB.fit(X_train, y_train)\n",
    "predictMNB = pipeMNB.predict(X_test)\n",
    "print(f\"MNB: {accuracy_score(y_test, predictMNB):.2f}\")\n",
    "\n",
    "pipeCNB.fit(X_train, y_train)\n",
    "predictCNB = pipeCNB.predict(X_test)\n",
    "print(f\"CNB: {accuracy_score(y_test, predictCNB):.2f}\")\n",
    "\n",
    "pipeSVC.fit(X_train, y_train)\n",
    "predictSVC = pipeSVC.predict(X_test)\n",
    "print(f\"SVC: {accuracy_score(y_test, predictSVC):.2f}\")"
   ]
  },
  {
   "cell_type": "code",
   "execution_count": 9,
   "id": "df0ceafd",
   "metadata": {
    "execution": {
     "iopub.execute_input": "2024-05-23T04:09:13.967334Z",
     "iopub.status.busy": "2024-05-23T04:09:13.966419Z",
     "iopub.status.idle": "2024-05-23T04:09:14.143565Z",
     "shell.execute_reply": "2024-05-23T04:09:14.142417Z"
    },
    "papermill": {
     "duration": 0.187435,
     "end_time": "2024-05-23T04:09:14.146454",
     "exception": false,
     "start_time": "2024-05-23T04:09:13.959019",
     "status": "completed"
    },
    "tags": []
   },
   "outputs": [
    {
     "name": "stdout",
     "output_type": "stream",
     "text": [
      "MultinomialNB Classification Report:\n",
      "              precision    recall  f1-score   support\n",
      "\n",
      "         ham       0.95      1.00      0.97       965\n",
      "        spam       1.00      0.65      0.79       150\n",
      "\n",
      "    accuracy                           0.95      1115\n",
      "   macro avg       0.97      0.82      0.88      1115\n",
      "weighted avg       0.95      0.95      0.95      1115\n",
      "\n",
      "-----------------------------------------------------------\n",
      "ComplementNB Classification Report:\n",
      "              precision    recall  f1-score   support\n",
      "\n",
      "         ham       0.99      0.99      0.99       965\n",
      "        spam       0.95      0.91      0.93       150\n",
      "\n",
      "    accuracy                           0.98      1115\n",
      "   macro avg       0.97      0.95      0.96      1115\n",
      "weighted avg       0.98      0.98      0.98      1115\n",
      "\n",
      "-----------------------------------------------------------\n",
      "LinearSVC Classification Report:\n",
      "              precision    recall  f1-score   support\n",
      "\n",
      "         ham       0.98      1.00      0.99       965\n",
      "        spam       0.97      0.89      0.93       150\n",
      "\n",
      "    accuracy                           0.98      1115\n",
      "   macro avg       0.98      0.94      0.96      1115\n",
      "weighted avg       0.98      0.98      0.98      1115\n",
      "\n"
     ]
    }
   ],
   "source": [
    "print(\"MultinomialNB Classification Report:\")\n",
    "print(classification_report(y_test, predictMNB))\n",
    "\n",
    "print(\"-----------------------------------------------------------\")\n",
    "\n",
    "print(\"ComplementNB Classification Report:\")\n",
    "print(classification_report(y_test, predictCNB))\n",
    "\n",
    "print(\"-----------------------------------------------------------\")\n",
    "\n",
    "print(\"LinearSVC Classification Report:\")\n",
    "print(classification_report(y_test, predictSVC))"
   ]
  },
  {
   "cell_type": "code",
   "execution_count": 10,
   "id": "8dcb4162",
   "metadata": {
    "execution": {
     "iopub.execute_input": "2024-05-23T04:09:14.159819Z",
     "iopub.status.busy": "2024-05-23T04:09:14.159389Z",
     "iopub.status.idle": "2024-05-23T04:09:14.173894Z",
     "shell.execute_reply": "2024-05-23T04:09:14.172374Z"
    },
    "papermill": {
     "duration": 0.024335,
     "end_time": "2024-05-23T04:09:14.176561",
     "exception": false,
     "start_time": "2024-05-23T04:09:14.152226",
     "status": "completed"
    },
    "tags": []
   },
   "outputs": [
    {
     "name": "stdout",
     "output_type": "stream",
     "text": [
      "['ham']\n",
      "['ham']\n",
      "['ham']\n"
     ]
    }
   ],
   "source": [
    "# msg = \"You have won a $10000 prize! contact us fot eh reward.\"\n",
    "msg = \"Dear friends, we are looking for 2 information technology intern positions.\"\n",
    "\n",
    "clsfMNB = pipeMNB.predict([msg])\n",
    "clsfCNB = pipeCNB.predict([msg])\n",
    "clsfSVC = pipeSVC.predict([msg])\n",
    "print(clsfMNB)\n",
    "print(clsfCNB)\n",
    "print(clsfSVC)"
   ]
  }
 ],
 "metadata": {
  "kaggle": {
   "accelerator": "none",
   "dataSources": [
    {
     "datasetId": 2050,
     "sourceId": 3494,
     "sourceType": "datasetVersion"
    }
   ],
   "dockerImageVersionId": 30698,
   "isGpuEnabled": false,
   "isInternetEnabled": false,
   "language": "python",
   "sourceType": "notebook"
  },
  "kernelspec": {
   "display_name": "Python 3",
   "language": "python",
   "name": "python3"
  },
  "language_info": {
   "codemirror_mode": {
    "name": "ipython",
    "version": 3
   },
   "file_extension": ".py",
   "mimetype": "text/x-python",
   "name": "python",
   "nbconvert_exporter": "python",
   "pygments_lexer": "ipython3",
   "version": "3.10.13"
  },
  "papermill": {
   "default_parameters": {},
   "duration": 8.233501,
   "end_time": "2024-05-23T04:09:14.804110",
   "environment_variables": {},
   "exception": null,
   "input_path": "__notebook__.ipynb",
   "output_path": "__notebook__.ipynb",
   "parameters": {},
   "start_time": "2024-05-23T04:09:06.570609",
   "version": "2.5.0"
  }
 },
 "nbformat": 4,
 "nbformat_minor": 5
}
